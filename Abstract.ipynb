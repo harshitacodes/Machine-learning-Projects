{
  "nbformat": 4,
  "nbformat_minor": 0,
  "metadata": {
    "colab": {
      "provenance": []
    },
    "kernelspec": {
      "name": "python3",
      "display_name": "Python 3"
    },
    "language_info": {
      "name": "python"
    }
  },
  "cells": [
    {
      "cell_type": "markdown",
      "source": [
        "#Titanic Passengers Survival Prediction\n",
        "###1. | Introduction 👋"
      ],
      "metadata": {
        "id": "0lJo06IwFDOa"
      }
    },
    {
      "cell_type": "markdown",
      "source": [
        "#####These datasets contains information about general information (gender, age) and detail of each Titanic passengers (ticket class, fare, cabin number, and etc).\n",
        "#####Machine learning model is needed in order to predict survivor of titanic passenger. \n",
        "\n",
        "The training set should be used to build machine learning models. For the training set, I am providing the outcome for each passenger. In model, it will be based on “features” like passengers’ gender and class.\n",
        "\n",
        "The test set should be used to see how well my model performs on unseen data. For the test set, I do not provide the ground truth for each passenger. It is our job to predict these outcomes. For each passenger in the test set, I will use the trained model to predict whether or not they survived the sinking of the Titanic.\n",
        "\n"
      ],
      "metadata": {
        "id": "EsSI0j45FQEU"
      }
    },
    {
      "cell_type": "markdown",
      "source": [
        "###2. | Dataset Description 🧾"
      ],
      "metadata": {
        "id": "CQTtsqvyFY3F"
      }
    },
    {
      "cell_type": "markdown",
      "source": [
        "There are 12 variables in this dataset:\n",
        "\n",
        "    pclass: A proxy for socio-economic status (SES)\n",
        "    1st = Upper\n",
        "    2nd = Middle\n",
        "    3rd = Lower\n",
        "\n",
        "    age: Age is fractional if less than 1. If the age is estimated, is it in the form of xx.5\n",
        "\n",
        "    sibsp: The dataset defines family relations in this way...\n",
        "    Sibling = brother, sister, stepbrother, stepsister\n",
        "    Spouse = husband, wife (mistresses and fiancés were ignored)\n",
        "\n",
        "    parch: The dataset defines family relations in this way...\n",
        "    Parent = mother, father\n",
        "    Child = daughter, son, stepdaughter, stepson\n",
        "    Some children travelled only with a nanny, therefore parch=0 for them.\n"
      ],
      "metadata": {
        "id": "fzGvTddWFoDl"
      }
    },
    {
      "cell_type": "markdown",
      "source": [],
      "metadata": {
        "id": "Cvl-OPIYFtKE"
      }
    }
  ]
}